{
 "cells": [
  {
   "cell_type": "code",
   "execution_count": 6,
   "metadata": {
    "collapsed": false
   },
   "outputs": [
    {
     "name": "stdout",
     "output_type": "stream",
     "text": [
      "請輸入開始日期 : year/month/day 2017/2/1\n",
      "請輸入結束日期 : year/month/day 2017/2/10\n",
      "            DEXTAUS\n",
      "DATE               \n",
      "2017-02-01    31.17\n",
      "2017-02-02    31.00\n",
      "2017-02-03    30.79\n",
      "2017-02-06    30.89\n",
      "2017-02-07    31.06\n",
      "            DEXJPUS\n",
      "DATE               \n",
      "2017-02-01   113.29\n",
      "2017-02-02   112.48\n",
      "2017-02-03   112.42\n",
      "2017-02-06   112.32\n",
      "2017-02-07   112.14\n"
     ]
    },
    {
     "data": {
      "text/plain": [
       "<matplotlib.axes._subplots.AxesSubplot at 0x11212bdd0>"
      ]
     },
     "execution_count": 6,
     "metadata": {},
     "output_type": "execute_result"
    },
    {
     "data": {
      "image/png": "[encoded data removed]",
      "text/plain": [
       "<matplotlib.figure.Figure at 0x1127930d0>"
      ]
     },
     "metadata": {},
     "output_type": "display_data"
    }
   ],
   "source": [
    "%matplotlib inline\n",
    "import datetime\n",
    "import pandas.io.data as webdata\n",
    "import time\n",
    "\n",
    "#user_input\n",
    "StartDate = raw_input(\"請輸入開始日期 : year/month/day \")\n",
    "EndDate = raw_input(\"請輸入結束日期 : year/month/day \")\n",
    "StartDate = time.strptime(StartDate, \"%Y/%m/%d\")\n",
    "EndDate = time.strptime(EndDate, \"%Y/%m/%d\")\n",
    "StartDate = datetime.date(StartDate[0], StartDate[1], StartDate[2])\n",
    "EndDate =  datetime.date(EndDate[0], EndDate[1], EndDate[2])\n",
    "#date\n",
    "tstart = StartDate #datetime.datetime(2016, 6, 10)\n",
    "tend = EndDate #datetime.datetime(2016, 7, 21)\n",
    "\n",
    "#get the TAUSD exchange rate\n",
    "extaus = webdata.DataReader(\"DEXTAUS\", \"fred\", tstart, tend);\n",
    "#print(type(extaus))\n",
    "print(extaus.head())\n",
    "\n",
    "#get the JPUSD exchange rate\n",
    "exjpus = webdata.DataReader(\"DEXJPUS\", \"fred\", tstart, tend);\n",
    "\n",
    "print(exjpus.head())\n",
    "extajp = extaus.ix[:]['DEXTAUS']/exjpus.ix[:]['DEXJPUS']\n",
    "extajp.plot()"
   ]
  },
  {
   "cell_type": "code",
   "execution_count": null,
   "metadata": {
    "collapsed": true
   },
   "outputs": [],
   "source": []
  }
 ],
 "metadata": {
  "kernelspec": {
   "display_name": "Python 2",
   "language": "python",
   "name": "python2"
  },
  "language_info": {
   "codemirror_mode": {
    "name": "ipython",
    "version": 2
   },
   "file_extension": ".py",
   "mimetype": "text/x-python",
   "name": "python",
   "nbconvert_exporter": "python",
   "pygments_lexer": "ipython2",
   "version": "2.7.11"
  }
 },
 "nbformat": 4,
 "nbformat_minor": 0
}
